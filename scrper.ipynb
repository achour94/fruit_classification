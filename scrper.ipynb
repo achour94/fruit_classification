{
 "cells": [
  {
   "cell_type": "code",
   "execution_count": 1,
   "metadata": {},
   "outputs": [],
   "source": [
    "import requests \n",
    "from bs4 import BeautifulSoup \n",
    "import urllib.request\n",
    "import random\n",
    "import os\n",
    "\n",
    "url = 'https://pixabay.com/fr/images/search/'\n",
    "\n",
    "\n",
    "def scrap(search, max_pages):\n",
    "    \n",
    "    dirName = \"D:/M2Ise/img/\"+str(search)\n",
    "    if not os.path.exists(dirName):\n",
    "        os.mkdir(dirName)\n",
    "    \n",
    "    pages = 1\n",
    "    while pages <= max_pages:\n",
    "        urlS =url +str(search)+'/?pagi='+str(pages)  # incrementer les page\n",
    "\n",
    "        opening = requests.get(urlS)\n",
    "\n",
    "        save = opening.text\n",
    "\n",
    "        soup = BeautifulSoup(save)\n",
    "        class_item = (div.a for div in soup.find_all('div', {'class': 'item'}))\n",
    "\n",
    "        for l in class_item:\n",
    "            links = 'https://pixabay.com/' + str(l.get(\"href\"))\n",
    "            # print(links)\n",
    "            if urlS in links: # incrementer les page\n",
    "                continue\n",
    "\n",
    "            opening = requests.get(links)\n",
    "            save = opening.text\n",
    "\n",
    "            soup = BeautifulSoup(save)\n",
    "            main_site = soup.find_all('img', {'itemprop': 'contentURL'})\n",
    "\n",
    "            for t in main_site:\n",
    "                src = t.get('src')\n",
    "                nom = t.get('alt').lower()\n",
    "                tab = search.split()\n",
    "                if nom.count(tab[0]) == 1 and nom.count(tab[1]) == 1  : # filtrer les données\n",
    "                    name = random.randrange(1, 180)\n",
    "\n",
    "                    full_name = (dirName+\"/\" + str(name) + '.jpg')\n",
    "\n",
    "                    # urllib.request.urlretrieve(src, full_name)\n",
    "\n",
    "                    class AppURLopener(urllib.request.FancyURLopener):\n",
    "                        version = \"Mozilla/5.0 (Windows NT 6.3; WOW64) AppleWebKit/537.36 (KHTML, like Gecko) Chrome/47.0.2526.69 Safari/537.36\"\n",
    "\n",
    "                    urllib._urlopener = AppURLopener()\n",
    "\n",
    "                    urllib._urlopener.retrieve(src, full_name)\n",
    "            pages = pages + 1\n",
    "\n",
    "\n",
    "\n",
    "    \n"
   ]
  },
  {
   "cell_type": "code",
   "execution_count": 7,
   "metadata": {},
   "outputs": [
    {
     "name": "stderr",
     "output_type": "stream",
     "text": [
      "C:\\Users\\achour\\Anaconda3\\envs\\achourE\\lib\\site-packages\\ipykernel_launcher.py:53: DeprecationWarning: AppURLopener style of invoking requests is deprecated. Use newer urlopen functions/methods\n"
     ]
    }
   ],
   "source": [
    "scrap(\"pomme rouge\",1)\n",
    "#scrap(\"banane jaune\",12)\n",
    "#scrap(\"ananas fruit\",12)"
   ]
  },
  {
   "cell_type": "code",
   "execution_count": null,
   "metadata": {},
   "outputs": [],
   "source": []
  },
  {
   "cell_type": "code",
   "execution_count": null,
   "metadata": {},
   "outputs": [],
   "source": []
  }
 ],
 "metadata": {
  "kernelspec": {
   "display_name": "Python 3",
   "language": "python",
   "name": "python3"
  },
  "language_info": {
   "codemirror_mode": {
    "name": "ipython",
    "version": 3
   },
   "file_extension": ".py",
   "mimetype": "text/x-python",
   "name": "python",
   "nbconvert_exporter": "python",
   "pygments_lexer": "ipython3",
   "version": "3.7.3"
  }
 },
 "nbformat": 4,
 "nbformat_minor": 2
}
